{
 "cells": [
  {
   "cell_type": "code",
   "execution_count": 9,
   "metadata": {},
   "outputs": [],
   "source": [
    "from sklearn.neighbors import KNeighborsClassifier\n",
    "from sklearn.preprocessing import StandardScaler\n",
    "import pandas as pd\n",
    "from sklearn.model_selection import train_test_split\n",
    "from IPython.display import HTML, display\n",
    "from tabulate import tabulate\n",
    "from sklearn.neighbors import KNeighborsClassifier\n",
    "import matplotlib.pyplot as plt\n",
    "from tqdm import tqdm\n",
    "from sklearn.metrics import accuracy_score, precision_score, recall_score, confusion_matrix\n",
    "scaler = StandardScaler()\n",
    "import seaborn as sns\n",
    "from sklearn.feature_selection import SelectKBest, mutual_info_classif\n",
    "\n"
   ]
  },
  {
   "cell_type": "code",
   "execution_count": 10,
   "metadata": {},
   "outputs": [
    {
     "name": "stderr",
     "output_type": "stream",
     "text": [
      "/home/bwhite48/.venv/lib/python3.6/site-packages/IPython/core/interactiveshell.py:3072: DtypeWarning: Columns (7,16,18,19,22,23,24,25) have mixed types.Specify dtype option on import or set low_memory=False.\n",
      "  interactivity=interactivity, compiler=compiler, result=result)\n"
     ]
    }
   ],
   "source": [
    "orig_df = pd.read_csv('../data/ED_2008-17_with_MC_female.csv') "
   ]
  },
  {
   "cell_type": "code",
   "execution_count": 11,
   "metadata": {},
   "outputs": [],
   "source": [
    "POSSIBLE_RELEVANT_COLS_5 = ['Encounter_Type', 'Age_Group_Num', 'Age_Group',\n",
    "       'Patient_Gender', 'Admission_Type', 'ER_Flag',\n",
    "       'Observation_Stay_Flag', 'Admission_Year', 'Admission_Quarter',\n",
    "       'Admission_Hour', 'LOS_Days', 'LOS_Hours',\n",
    "       'pop', 'pctgqtract', 'LEB', 'hpi', 'economic',\n",
    "       'education', 'insurance', 'clean_enviro', 'housing', 'neighborhood',\n",
    "       'social', 'transportation', 'abovepoverty', 'automobile', 'bachelorsed',\n",
    "       'bikeaccess', 'censusresponse', 'dieselpm', 'employed', 'homeownership',\n",
    "       'houserepair', 'inhighschool', 'inpreschool', 'insured', 'ownsevere',\n",
    "       'parkaccess_ut', 'percapitaincome', 'pm25', 'rentsevere', 'treecanopy',\n",
    "       'uncrowded', 'voting', 'latino_pct', 'white_pct', 'black_pct',\n",
    "       'asian_pct', 'multiple_pct', 'NativeAm_pct', 'PacificIsl_pct',\n",
    "       'other_pct', 'Maternal_Complications_Indicator']\n",
    "\n",
    "def filter_df(df, columns_to_keep):\n",
    "    columns_to_drop = [col for col in df.columns if col not in columns_to_keep]\n",
    "    df.drop(columns=columns_to_drop, inplace=True)\n",
    "    df.dropna(axis=0, inplace=True)\n",
    "    return df"
   ]
  },
  {
   "cell_type": "code",
   "execution_count": null,
   "metadata": {},
   "outputs": [],
   "source": [
    "df = filter_df(orig_df, POSSIBLE_RELEVANT_COLS_5)\n",
    "df"
   ]
  },
  {
   "cell_type": "code",
   "execution_count": null,
   "metadata": {},
   "outputs": [],
   "source": [
    "zeros_subset = df[df['Maternal_Complications_Indicator'] == 0]\n",
    "ones_subset = df[df['Maternal_Complications_Indicator'] == 1]\n",
    "print(len(zeros_subset))\n",
    "print(len(ones_subset))\n",
    "# Calculate the desired number of samples for each label\n",
    "num_samples_zeros = int(len(zeros_subset) / 10)  \n",
    "num_samples_ones = int(len(ones_subset) / 10)\n",
    "# Assuming you want an even number of samples for each label\n",
    "print(num_samples_zeros)\n",
    "print(num_samples_ones)\n",
    "# Randomly select the desired number of samples from each subset\n",
    "random_zeros = zeros_subset.sample(n=num_samples_zeros, random_state=42)  # You can change the random_state for reproducibility\n",
    "random_ones = ones_subset.sample(n=num_samples_ones, random_state=42)\n",
    "\n",
    "# Combine the randomly selected samples\n",
    "df_small = pd.concat([random_zeros, random_ones])\n",
    "print(len(df_small))"
   ]
  },
  {
   "cell_type": "code",
   "execution_count": 14,
   "metadata": {},
   "outputs": [],
   "source": [
    "X_unprocessed = df_small.drop(columns=['Maternal_Complications_Indicator'])\n",
    "y = df_small['Maternal_Complications_Indicator']\n",
    "\n",
    "categorical_feats = []\n",
    "for col in X_unprocessed.columns:\n",
    "    if X_unprocessed[col].dtype == 'object':\n",
    "        categorical_feats.append(col)\n",
    "        \n",
    "X = pd.get_dummies(X_unprocessed, columns=categorical_feats, drop_first=True)"
   ]
  },
  {
   "cell_type": "code",
   "execution_count": null,
   "metadata": {},
   "outputs": [],
   "source": [
    "X_train, X_test, y_train, y_test = train_test_split(X, y, test_size=0.3, random_state=42)\n",
    "\n",
    "print(len(X_train))\n",
    "print(y_train.value_counts())\n",
    "print(y_test.value_counts())\n",
    "print(len(X_test))"
   ]
  },
  {
   "cell_type": "code",
   "execution_count": null,
   "metadata": {},
   "outputs": [],
   "source": [
    "\n",
    "headers = [\"Number neighbors\",\t\"Training Accuracy\",\t\"Test Accuracy\"]\n",
    "table = []\n",
    "\n",
    "for i in tqdm(range(3,7)):\n",
    "  #create classifier\n",
    "  knn_classifier = KNeighborsClassifier(n_neighbors=i)\n",
    "  #train\n",
    "  knn_classifier.fit(X_train, y_train)\n",
    "\n",
    "  # training prediction accuracy\n",
    "  y_train_pred = knn_classifier.predict(X_train)\n",
    "  train_accuracy = accuracy_score(y_train, y_train_pred)\n",
    "  # test prediction accuracy\n",
    "  y_test_pred = knn_classifier.predict(X_test)\n",
    "  test_accuracy = accuracy_score(y_test, y_test_pred)\n",
    "\n",
    "  table.append([i, train_accuracy, test_accuracy])\n",
    "\n",
    "\n",
    "#display(HTML(tabulate(table, headers=headers, tablefmt='html')))\n",
    "sorted_table = sorted(table, key=lambda x: x[2], reverse=True)\n",
    "display(HTML(tabulate(sorted_table, headers=headers, tablefmt='html')))\n",
    "best_n_neighbors = sorted_table[0][0]"
   ]
  },
  {
   "cell_type": "code",
   "execution_count": null,
   "metadata": {},
   "outputs": [
    {
     "name": "stderr",
     "output_type": "stream",
     "text": [
      "  0%|          | 0/2 [00:00<?, ?it/s]"
     ]
    },
    {
     "name": "stderr",
     "output_type": "stream",
     "text": [
      "100%|██████████| 2/2 [01:55<00:00, 57.77s/it]\n"
     ]
    },
    {
     "data": {
      "text/html": [
       "<table>\n",
       "<thead>\n",
       "<tr><th>Weights  </th><th style=\"text-align: right;\">  Training Accuracy</th><th style=\"text-align: right;\">  Test Accuracy</th></tr>\n",
       "</thead>\n",
       "<tbody>\n",
       "<tr><td>uniform  </td><td style=\"text-align: right;\">           0.833133</td><td style=\"text-align: right;\">       0.766322</td></tr>\n",
       "<tr><td>distance </td><td style=\"text-align: right;\">           0.930883</td><td style=\"text-align: right;\">       0.741291</td></tr>\n",
       "</tbody>\n",
       "</table>"
      ],
      "text/plain": [
       "<IPython.core.display.HTML object>"
      ]
     },
     "metadata": {},
     "output_type": "display_data"
    }
   ],
   "source": [
    "#weights\n",
    "X_train, X_test, y_train, y_test = train_test_split(X, y, test_size=0.3, random_state=42)\n",
    "\n",
    "headers = [\"Weights\",\t\"Training Accuracy\",\t\"Test Accuracy\"]\n",
    "table = []\n",
    "weights = ['uniform', 'distance']\n",
    "\n",
    "for weight in tqdm(weights):\n",
    "  #create classifier\n",
    "  knn_classifier = KNeighborsClassifier(n_neighbors=best_n_neighbors, weights = weight)\n",
    "  #train\n",
    "  knn_classifier.fit(X_train, y_train)\n",
    "\n",
    "  # training prediction accuracy\n",
    "  y_train_pred = knn_classifier.predict(X_train)\n",
    "  train_accuracy = accuracy_score(y_train, y_train_pred)\n",
    "  # test prediction accuracy\n",
    "  y_test_pred = knn_classifier.predict(X_test)\n",
    "  test_accuracy = accuracy_score(y_test, y_test_pred)\n",
    "\n",
    "  table.append([weight, train_accuracy, test_accuracy])\n",
    "\n",
    "\n",
    "#display(HTML(tabulate(table, headers=headers, tablefmt='html')))\n",
    "sorted_table = sorted(table, key=lambda x: x[2], reverse=True)\n",
    "display(HTML(tabulate(sorted_table, headers=headers, tablefmt='html')))\n",
    "best_weights = sorted_table[0][0]\n"
   ]
  },
  {
   "cell_type": "code",
   "execution_count": null,
   "metadata": {},
   "outputs": [
    {
     "name": "stderr",
     "output_type": "stream",
     "text": [
      "  0%|          | 0/4 [00:00<?, ?it/s]"
     ]
    },
    {
     "name": "stderr",
     "output_type": "stream",
     "text": [
      "100%|██████████| 4/4 [02:07<00:00, 31.76s/it]\n"
     ]
    },
    {
     "data": {
      "text/html": [
       "<table>\n",
       "<thead>\n",
       "<tr><th>Algorithm  </th><th style=\"text-align: right;\">  Training Accuracy</th><th style=\"text-align: right;\">  Test Accuracy</th></tr>\n",
       "</thead>\n",
       "<tbody>\n",
       "<tr><td>auto       </td><td style=\"text-align: right;\">           0.833133</td><td style=\"text-align: right;\">       0.766322</td></tr>\n",
       "<tr><td>brute      </td><td style=\"text-align: right;\">           0.833133</td><td style=\"text-align: right;\">       0.766322</td></tr>\n",
       "<tr><td>ball_tree  </td><td style=\"text-align: right;\">           0.832063</td><td style=\"text-align: right;\">       0.761449</td></tr>\n",
       "<tr><td>kd_tree    </td><td style=\"text-align: right;\">           0.833133</td><td style=\"text-align: right;\">       0.760171</td></tr>\n",
       "</tbody>\n",
       "</table>"
      ],
      "text/plain": [
       "<IPython.core.display.HTML object>"
      ]
     },
     "metadata": {},
     "output_type": "display_data"
    }
   ],
   "source": [
    "#algorithm\n",
    "X_train, X_test, y_train, y_test = train_test_split(X, y, test_size=0.3, random_state=42)\n",
    "\n",
    "headers = [\"Algorithm\",\t\"Training Accuracy\",\t\"Test Accuracy\"]\n",
    "table = []\n",
    "algors = ['auto', 'ball_tree', 'kd_tree', 'brute']\n",
    "\n",
    "for algor in tqdm(algors):\n",
    "  #create classifier\n",
    "  knn_classifier = KNeighborsClassifier(n_neighbors=best_n_neighbors, weights = best_weights,\n",
    "                                        algorithm = algor)\n",
    "  #train\n",
    "  knn_classifier.fit(X_train, y_train)\n",
    "\n",
    "  # training prediction accuracy\n",
    "  y_train_pred = knn_classifier.predict(X_train)\n",
    "  train_accuracy = accuracy_score(y_train, y_train_pred)\n",
    "  # test prediction accuracy\n",
    "  y_test_pred = knn_classifier.predict(X_test)\n",
    "  test_accuracy = accuracy_score(y_test, y_test_pred)\n",
    "\n",
    "  table.append([algor, train_accuracy, test_accuracy])\n",
    "\n",
    "\n",
    "#display(HTML(tabulate(table, headers=headers, tablefmt='html')))\n",
    "sorted_table = sorted(table, key=lambda x: x[2], reverse=True)\n",
    "display(HTML(tabulate(sorted_table, headers=headers, tablefmt='html')))\n",
    "best_algorithm = sorted_table[0][0]\n"
   ]
  },
  {
   "cell_type": "code",
   "execution_count": null,
   "metadata": {},
   "outputs": [
    {
     "name": "stderr",
     "output_type": "stream",
     "text": [
      "  0%|          | 0/5 [00:00<?, ?it/s]"
     ]
    },
    {
     "name": "stderr",
     "output_type": "stream",
     "text": [
      "100%|██████████| 5/5 [04:50<00:00, 58.10s/it]\n"
     ]
    },
    {
     "data": {
      "text/html": [
       "<table>\n",
       "<thead>\n",
       "<tr><th style=\"text-align: right;\">  leaf_size</th><th style=\"text-align: right;\">  Training Accuracy</th><th style=\"text-align: right;\">  Test Accuracy</th></tr>\n",
       "</thead>\n",
       "<tbody>\n",
       "<tr><td style=\"text-align: right;\">          1</td><td style=\"text-align: right;\">           0.833133</td><td style=\"text-align: right;\">       0.766322</td></tr>\n",
       "<tr><td style=\"text-align: right;\">          2</td><td style=\"text-align: right;\">           0.833133</td><td style=\"text-align: right;\">       0.766322</td></tr>\n",
       "<tr><td style=\"text-align: right;\">          5</td><td style=\"text-align: right;\">           0.833133</td><td style=\"text-align: right;\">       0.766322</td></tr>\n",
       "<tr><td style=\"text-align: right;\">         10</td><td style=\"text-align: right;\">           0.833133</td><td style=\"text-align: right;\">       0.766322</td></tr>\n",
       "<tr><td style=\"text-align: right;\">         30</td><td style=\"text-align: right;\">           0.833133</td><td style=\"text-align: right;\">       0.766322</td></tr>\n",
       "</tbody>\n",
       "</table>"
      ],
      "text/plain": [
       "<IPython.core.display.HTML object>"
      ]
     },
     "metadata": {},
     "output_type": "display_data"
    }
   ],
   "source": [
    "#leaf_size (only if best_algor ≠ 'brute')\n",
    "\n",
    "X_train, X_test, y_train, y_test = train_test_split(X, y, test_size=0.3, random_state=42)\n",
    "\n",
    "headers = [\"leaf_size\",\t\"Training Accuracy\",\t\"Test Accuracy\"]\n",
    "table = []\n",
    "sizes = [1, 2, 5, 10, 30]\n",
    "\n",
    "for size in tqdm(sizes):\n",
    "  #create classifier\n",
    "  knn_classifier = KNeighborsClassifier(n_neighbors=best_n_neighbors, weights = best_weights,\n",
    "                                        algorithm = best_algorithm, leaf_size = size)\n",
    "  #train\n",
    "  knn_classifier.fit(X_train, y_train)\n",
    "\n",
    "  # training prediction accuracy\n",
    "  y_train_pred = knn_classifier.predict(X_train)\n",
    "  train_accuracy = accuracy_score(y_train, y_train_pred)\n",
    "  # test prediction accuracy\n",
    "  y_test_pred = knn_classifier.predict(X_test)\n",
    "  test_accuracy = accuracy_score(y_test, y_test_pred)\n",
    "\n",
    "  table.append([size, train_accuracy, test_accuracy])\n",
    "\n",
    "\n",
    "#display(HTML(tabulate(table, headers=headers, tablefmt='html')))\n",
    "sorted_table = sorted(table, key=lambda x: x[2], reverse=True)\n",
    "display(HTML(tabulate(sorted_table, headers=headers, tablefmt='html')))\n",
    "best_leaf_size = sorted_table[0][0]"
   ]
  },
  {
   "cell_type": "code",
   "execution_count": null,
   "metadata": {},
   "outputs": [
    {
     "name": "stderr",
     "output_type": "stream",
     "text": [
      "  0%|          | 0/2 [00:00<?, ?it/s]"
     ]
    },
    {
     "name": "stderr",
     "output_type": "stream",
     "text": [
      "100%|██████████| 2/2 [02:16<00:00, 68.38s/it]\n"
     ]
    },
    {
     "data": {
      "text/html": [
       "<table>\n",
       "<thead>\n",
       "<tr><th style=\"text-align: right;\">  p_val</th><th style=\"text-align: right;\">  Training Accuracy</th><th style=\"text-align: right;\">  Test Accuracy</th></tr>\n",
       "</thead>\n",
       "<tbody>\n",
       "<tr><td style=\"text-align: right;\">      2</td><td style=\"text-align: right;\">           0.833133</td><td style=\"text-align: right;\">       0.766322</td></tr>\n",
       "<tr><td style=\"text-align: right;\">      1</td><td style=\"text-align: right;\">           0.833159</td><td style=\"text-align: right;\">       0.762911</td></tr>\n",
       "</tbody>\n",
       "</table>"
      ],
      "text/plain": [
       "<IPython.core.display.HTML object>"
      ]
     },
     "metadata": {},
     "output_type": "display_data"
    }
   ],
   "source": [
    "#p\n",
    "\n",
    "X_train, X_test, y_train, y_test = train_test_split(X, y, test_size=0.3, random_state=42)\n",
    "\n",
    "headers = [\"p_val\",\t\"Training Accuracy\",\t\"Test Accuracy\"]\n",
    "table = []\n",
    "p_vals = [1, 2]\n",
    "\n",
    "for p_val in tqdm(p_vals):\n",
    "  #create classifier\n",
    "  knn_classifier = KNeighborsClassifier(n_neighbors=5, weights = \"uniform\",\n",
    "                                        algorithm = \"auto\", leaf_size = 1,\n",
    "                                        p = p_val)\n",
    "  #train\n",
    "  knn_classifier.fit(X_train, y_train)\n",
    "\n",
    "  # training prediction accuracy\n",
    "  y_train_pred = knn_classifier.predict(X_train)\n",
    "  train_accuracy = accuracy_score(y_train, y_train_pred)\n",
    "  # test prediction accuracy\n",
    "  y_test_pred = knn_classifier.predict(X_test)\n",
    "  test_accuracy = accuracy_score(y_test, y_test_pred)\n",
    "\n",
    "  table.append([p_val, train_accuracy, test_accuracy])\n",
    "\n",
    "\n",
    "#display(HTML(tabulate(table, headers=headers, tablefmt='html')))\n",
    "sorted_table = sorted(table, key=lambda x: x[2], reverse=True)\n",
    "display(HTML(tabulate(sorted_table, headers=headers, tablefmt='html')))\n",
    "best_p = sorted_table[0][0]\n"
   ]
  },
  {
   "cell_type": "code",
   "execution_count": null,
   "metadata": {},
   "outputs": [
    {
     "name": "stderr",
     "output_type": "stream",
     "text": [
      "  0%|          | 0/5 [00:00<?, ?it/s]"
     ]
    },
    {
     "name": "stderr",
     "output_type": "stream",
     "text": [
      "100%|██████████| 5/5 [06:11<00:00, 74.27s/it]\n"
     ]
    },
    {
     "data": {
      "text/html": [
       "<table>\n",
       "<thead>\n",
       "<tr><th>metric   </th><th style=\"text-align: right;\">  Training Accuracy</th><th style=\"text-align: right;\">  Test Accuracy</th></tr>\n",
       "</thead>\n",
       "<tbody>\n",
       "<tr><td>euclidean</td><td style=\"text-align: right;\">           0.833133</td><td style=\"text-align: right;\">       0.766322</td></tr>\n",
       "<tr><td>l2       </td><td style=\"text-align: right;\">           0.833133</td><td style=\"text-align: right;\">       0.766322</td></tr>\n",
       "<tr><td>cityblock</td><td style=\"text-align: right;\">           0.833159</td><td style=\"text-align: right;\">       0.762911</td></tr>\n",
       "<tr><td>l1       </td><td style=\"text-align: right;\">           0.833159</td><td style=\"text-align: right;\">       0.762911</td></tr>\n",
       "<tr><td>manhattan</td><td style=\"text-align: right;\">           0.833159</td><td style=\"text-align: right;\">       0.762911</td></tr>\n",
       "</tbody>\n",
       "</table>"
      ],
      "text/plain": [
       "<IPython.core.display.HTML object>"
      ]
     },
     "metadata": {},
     "output_type": "display_data"
    }
   ],
   "source": [
    "#metric\n",
    "\n",
    "X_train, X_test, y_train, y_test = train_test_split(X, y, test_size=0.3, random_state=42)\n",
    "\n",
    "headers = [\"metric\",\t\"Training Accuracy\",\t\"Test Accuracy\"]\n",
    "table = []\n",
    "metrics = ['cityblock', 'euclidean', 'l1', 'l2', 'manhattan'] #, mydist]\n",
    "# no 'haversine' because only works if 2-d\n",
    "\n",
    "\n",
    "for cur_met in tqdm(metrics):\n",
    "  #create classifier\n",
    "  knn_classifier = KNeighborsClassifier(n_neighbors=best_n_neighbors, weights = best_weights,\n",
    "                                        algorithm = best_algorithm, leaf_size = best_leaf_size,\n",
    "                                        p = best_p, metric = cur_met)\n",
    "  #train\n",
    "  knn_classifier.fit(X_train, y_train)\n",
    "\n",
    "  # training prediction accuracy\n",
    "  y_train_pred = knn_classifier.predict(X_train)\n",
    "  train_accuracy = accuracy_score(y_train, y_train_pred)\n",
    "  # test prediction accuracy\n",
    "  y_test_pred = knn_classifier.predict(X_test)\n",
    "  test_accuracy = accuracy_score(y_test, y_test_pred)\n",
    "\n",
    "  table.append([cur_met, train_accuracy, test_accuracy])\n",
    "\n",
    "sorted_table = sorted(table, key=lambda x: x[2], reverse=True)\n",
    "display(HTML(tabulate(sorted_table, headers=headers, tablefmt='html')))\n",
    "best_metric = sorted_table[0][0]\n"
   ]
  },
  {
   "cell_type": "code",
   "execution_count": 22,
   "metadata": {},
   "outputs": [],
   "source": [
    "best_metric = 'euclidean'\n",
    "best_algorithm = 'auto'\n",
    "best_leaf_size = 1\n",
    "best_n_neighbors = 5\n",
    "best_p = 2\n",
    "best_weights = 'uniform'"
   ]
  },
  {
   "cell_type": "code",
   "execution_count": 35,
   "metadata": {},
   "outputs": [],
   "source": [
    "def train(X, y, feature_selection=False, scaled=False, grid_search=False):\n",
    "    X_train, X_test, y_train, y_test = train_test_split(X, y, test_size=0.3, random_state=42)\n",
    "\n",
    "    indices_to_drop = y_train[y_train == 0].index\n",
    "\n",
    "    num_positive_samples = (y_train == 1).sum()\n",
    "    num_to_drop = len(indices_to_drop) - num_positive_samples\n",
    "    indices_to_drop = indices_to_drop.to_series().sample(n=num_to_drop, random_state=42)\n",
    "    # Drop the selected rows\n",
    "    y_train = y_train.drop(indices_to_drop)\n",
    "    X_train = X_train.drop(indices_to_drop)\n",
    "    \n",
    "    indices_to_drop_acc = y_test[y_test == 0].index\n",
    "    indices_to_drop_acc = indices_to_drop_acc.to_series().sample(n=len(indices_to_drop_acc) - (y_test == 1).sum(), random_state=42)\n",
    "    X_test_acc = X_test.drop(indices_to_drop_acc)\n",
    "    y_test_acc = y_test.drop(indices_to_drop_acc)\n",
    "\n",
    "    if scaled:\n",
    "        X_train = scaler.fit_transform(X_train)\n",
    "        X_test = scaler.transform(X_test)\n",
    "        X_test_acc = scaler.transform(X_test_acc)\n",
    "    \n",
    "    if feature_selection:\n",
    "        selector = SelectKBest(score_func=mutual_info_classif, k=15) \n",
    "        X_train = selector.fit_transform(X_train, y_train)\n",
    "        X_test = selector.transform(X_test)\n",
    "        X_test_acc = selector.transform(X_test_acc)\n",
    "        \n",
    "    if grid_search:\n",
    "        knn_classifier = KNeighborsClassifier(n_neighbors=best_n_neighbors, weights = best_weights,\n",
    "                                        algorithm = best_algorithm, leaf_size = best_leaf_size,\n",
    "                                        p = best_p, metric = best_metric)\n",
    "    else:\n",
    "        knn_classifier = KNeighborsClassifier()\n",
    "        \n",
    "    knn_classifier.fit(X_train, y_train)\n",
    "    \n",
    "    # training prediction accuracy\n",
    "    y_train_pred = knn_classifier.predict(X_train)\n",
    "    \n",
    "    train_accuracy = accuracy_score(y_train, y_train_pred)\n",
    "    train_precision = precision_score(y_train, y_train_pred)\n",
    "    train_recall = recall_score(y_train, y_train_pred)\n",
    "\n",
    "    # test prediction accuracy\n",
    "    y_test_pred = knn_classifier.predict(X_test)\n",
    "    y_test_pred_acc = knn_classifier.predict(X_test_acc)\n",
    "    \n",
    "    test_accuracy = accuracy_score(y_test_acc, y_test_pred_acc)\n",
    "    test_precision = precision_score(y_test, y_test_pred)\n",
    "    test_recall = recall_score(y_test, y_test_pred)\n",
    "    \n",
    "    conf_matrix = confusion_matrix(y_test, y_test_pred)\n",
    "\n",
    "    \n",
    "    return train_accuracy, test_accuracy, train_precision, test_precision, train_recall, test_recall, conf_matrix"
   ]
  },
  {
   "cell_type": "code",
   "execution_count": 36,
   "metadata": {},
   "outputs": [],
   "source": [
    "accuracies_df = pd.DataFrame(columns=['Iteration', 'Accuracy', 'Precision', 'Recall'])\n",
    "\n",
    "train_accuracy, test_accuracy, train_precision, test_precision, train_recall, test_recall, conf_matrix = train(X, y)\n",
    "new_row = {'Iteration': \"All Features\", 'Accuracy': test_accuracy, 'Precision': test_precision, 'Recall': test_recall}\n",
    "accuracies_df = accuracies_df.append(new_row, ignore_index=True)"
   ]
  },
  {
   "cell_type": "code",
   "execution_count": 37,
   "metadata": {},
   "outputs": [],
   "source": [
    "train_accuracy, test_accuracy, train_precision, test_precision, train_recall, test_recall, conf_matrix = train(X, y, scaled=True)\n",
    "new_row = {'Iteration': \"Scaled\", 'Accuracy': test_accuracy, 'Precision': test_precision, 'Recall': test_recall}\n",
    "accuracies_df = accuracies_df.append(new_row, ignore_index=True)"
   ]
  },
  {
   "cell_type": "code",
   "execution_count": 38,
   "metadata": {},
   "outputs": [],
   "source": [
    "train_accuracy, test_accuracy, train_precision, test_precision, train_recall, test_recall, conf_matrix = train(X, y, scaled=True, grid_search=True)\n",
    "new_row = {'Iteration': \"Grid Search\", 'Accuracy': test_accuracy, 'Precision': test_precision, 'Recall': test_recall}\n",
    "accuracies_df = accuracies_df.append(new_row, ignore_index=True)"
   ]
  },
  {
   "cell_type": "code",
   "execution_count": 39,
   "metadata": {},
   "outputs": [],
   "source": [
    "train_accuracy, test_accuracy, train_precision, test_precision, train_recall, test_recall, conf_matrix = train(X, y, feature_selection=True, scaled=True, grid_search=True)\n",
    "new_row = {'Iteration': \"Feature Selection\", 'Accuracy': test_accuracy, 'Precision': test_precision, 'Recall': test_recall}\n",
    "accuracies_df = accuracies_df.append(new_row, ignore_index=True)"
   ]
  },
  {
   "cell_type": "code",
   "execution_count": 40,
   "metadata": {},
   "outputs": [
    {
     "data": {
      "text/html": [
       "<div>\n",
       "<style scoped>\n",
       "    .dataframe tbody tr th:only-of-type {\n",
       "        vertical-align: middle;\n",
       "    }\n",
       "\n",
       "    .dataframe tbody tr th {\n",
       "        vertical-align: top;\n",
       "    }\n",
       "\n",
       "    .dataframe thead th {\n",
       "        text-align: right;\n",
       "    }\n",
       "</style>\n",
       "<table border=\"1\" class=\"dataframe\">\n",
       "  <thead>\n",
       "    <tr style=\"text-align: right;\">\n",
       "      <th></th>\n",
       "      <th>Iteration</th>\n",
       "      <th>Accuracy</th>\n",
       "      <th>Precision</th>\n",
       "      <th>Recall</th>\n",
       "    </tr>\n",
       "  </thead>\n",
       "  <tbody>\n",
       "    <tr>\n",
       "      <th>0</th>\n",
       "      <td>All Features</td>\n",
       "      <td>0.759210</td>\n",
       "      <td>0.117627</td>\n",
       "      <td>0.819680</td>\n",
       "    </tr>\n",
       "    <tr>\n",
       "      <th>1</th>\n",
       "      <td>Scaled</td>\n",
       "      <td>0.763936</td>\n",
       "      <td>0.117909</td>\n",
       "      <td>0.826709</td>\n",
       "    </tr>\n",
       "    <tr>\n",
       "      <th>2</th>\n",
       "      <td>Grid Search</td>\n",
       "      <td>0.763936</td>\n",
       "      <td>0.117909</td>\n",
       "      <td>0.826709</td>\n",
       "    </tr>\n",
       "    <tr>\n",
       "      <th>3</th>\n",
       "      <td>Feature Selection</td>\n",
       "      <td>0.756059</td>\n",
       "      <td>0.122371</td>\n",
       "      <td>0.802230</td>\n",
       "    </tr>\n",
       "  </tbody>\n",
       "</table>\n",
       "</div>"
      ],
      "text/plain": [
       "           Iteration  Accuracy  Precision    Recall\n",
       "0       All Features  0.759210   0.117627  0.819680\n",
       "1             Scaled  0.763936   0.117909  0.826709\n",
       "2        Grid Search  0.763936   0.117909  0.826709\n",
       "3  Feature Selection  0.756059   0.122371  0.802230"
      ]
     },
     "execution_count": 40,
     "metadata": {},
     "output_type": "execute_result"
    }
   ],
   "source": [
    "accuracies_df"
   ]
  },
  {
   "cell_type": "code",
   "execution_count": null,
   "metadata": {},
   "outputs": [
    {
     "name": "stdout",
     "output_type": "stream",
     "text": [
      "Train accuracy: 0.8331593234495719\n",
      "Test accuracy: 0.762911084043849\n",
      "\n",
      "Train recall: 0.8963105985492877\n",
      "Test recall: 0.8211629891503108\n",
      "\n",
      "Train precision: 0.7958852694499792\n",
      "Test precision: 0.7352106526959179\n"
     ]
    }
   ],
   "source": [
    "knn_classifier = KNeighborsClassifier(n_neighbors=best_n_neighbors, weights = best_weights,\n",
    "                                    algorithm = best_algorithm, leaf_size = best_leaf_size,\n",
    "                                    p = best_p, metric = cur_met)\n",
    "#train\n",
    "knn_classifier.fit(X_train, y_train)\n",
    "\n",
    "# training prediction accuracy\n",
    "y_train_pred = knn_classifier.predict(X_train)\n",
    "train_accuracy = accuracy_score(y_train, y_train_pred)\n",
    "train_precision = precision_score(y_train, y_train_pred)\n",
    "train_recall = recall_score(y_train, y_train_pred)\n",
    "\n",
    "# test prediction accuracy\n",
    "y_test_pred = knn_classifier.predict(X_test)\n",
    "test_accuracy = accuracy_score(y_test, y_test_pred)\n",
    "test_precision = precision_score(y_test, y_test_pred)\n",
    "test_recall = recall_score(y_test, y_test_pred)\n",
    "\n",
    "print(\"Train accuracy:\", train_accuracy)\n",
    "print(\"Test accuracy:\", test_accuracy)\n",
    "print()\n",
    "print(\"Train recall:\", train_recall)\n",
    "print(\"Test recall:\", test_recall)\n",
    "print()\n",
    "print(\"Train precision:\", train_precision)\n",
    "print(\"Test precision:\", test_precision)"
   ]
  },
  {
   "cell_type": "code",
   "execution_count": null,
   "metadata": {},
   "outputs": [
    {
     "name": "stdout",
     "output_type": "stream",
     "text": [
      "Confusion Matrix:\n",
      "[[5791 2426]\n",
      " [1467 6736]]\n"
     ]
    }
   ],
   "source": [
    "conf_matrix = confusion_matrix(y_test, y_test_pred)\n",
    "\n",
    "# Print the confusion matrix\n",
    "print(\"Confusion Matrix:\")\n",
    "print(conf_matrix)"
   ]
  },
  {
   "cell_type": "code",
   "execution_count": 42,
   "metadata": {},
   "outputs": [
    {
     "data": {
      "image/png": "[encoded data removed]",
      "text/plain": [
       "<Figure size 432x288 with 2 Axes>"
      ]
     },
     "metadata": {
      "needs_background": "light"
     },
     "output_type": "display_data"
    }
   ],
   "source": [
    "\n",
    "# Create a heatmap of the confusion matrix\n",
    "sns.heatmap(conf_matrix, annot=True, fmt='d', cmap='Blues')\n",
    "plt.xlabel('Predicted labels')\n",
    "plt.ylabel('True labels')\n",
    "plt.title('K-Nearest Neighbors')\n",
    "plt.show()"
   ]
  }
 ],
 "metadata": {
  "kernelspec": {
   "display_name": "Python 3 (ipykernel)",
   "language": "python",
   "name": "python3"
  },
  "language_info": {
   "codemirror_mode": {
    "name": "ipython",
    "version": 3
   },
   "file_extension": ".py",
   "mimetype": "text/x-python",
   "name": "python",
   "nbconvert_exporter": "python",
   "pygments_lexer": "ipython3",
   "version": "3.6.8"
  }
 },
 "nbformat": 4,
 "nbformat_minor": 2
}
