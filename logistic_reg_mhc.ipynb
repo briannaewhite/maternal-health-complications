{
 "cells": [
  {
   "cell_type": "code",
   "execution_count": 1,
   "metadata": {},
   "outputs": [],
   "source": [
    "import pandas as pd\n",
    "import numpy as np\n",
    "from sklearn.model_selection import train_test_split\n",
    "from sklearn.linear_model import LogisticRegression\n",
    "from sklearn.preprocessing import StandardScaler\n",
    "from sklearn.metrics import precision_score, recall_score\n",
    "scaler = StandardScaler()\n",
    "import seaborn as sns\n",
    "# import matplotlib as plt\n",
    "from sklearn.metrics import confusion_matrix\n",
    "from matplotlib import pyplot as plt"
   ]
  },
  {
   "cell_type": "code",
   "execution_count": null,
   "metadata": {},
   "outputs": [],
   "source": [
    "# load ED_with_indicators.csv\n",
    "orig_df = pd.read_csv('../data/ED_2008-17_with_MC_female.csv')"
   ]
  },
  {
   "cell_type": "code",
   "execution_count": 4,
   "metadata": {},
   "outputs": [],
   "source": [
    "POSSIBLE_RELEVANT_COLS = ['Encounter_Type', 'Age_Group_Num', 'Age_Group',\n",
    "       'Admission_Type', 'Admission_Source', 'ER_Flag',\n",
    "       'Observation_Stay_Flag', 'Admission_Year', 'Admission_Quarter',\n",
    "       'Admission_Hour', 'LOS_Days', 'LOS_Hours', 'Patient_Discharge_Status',\n",
    "       'Patient_Marital_Status', 'pop', 'pctgqtract', 'LEB', 'hpi', 'economic',\n",
    "       'education', 'insurance', 'clean_enviro', 'housing', 'neighborhood',\n",
    "       'social', 'transportation', 'abovepoverty', 'automobile', 'bachelorsed',\n",
    "       'bikeaccess', 'censusresponse', 'dieselpm', 'employed', 'homeownership',\n",
    "       'houserepair', 'inhighschool', 'inpreschool', 'insured', 'ownsevere',\n",
    "       'parkaccess_ut', 'percapitaincome', 'pm25', 'rentsevere', 'treecanopy',\n",
    "       'uncrowded', 'voting', 'latino_pct', 'white_pct', 'black_pct',\n",
    "       'asian_pct', 'multiple_pct', 'NativeAm_pct', 'PacificIsl_pct',\n",
    "       'other_pct', 'lat', 'lng', 'Maternal_Complications_Indicator',\n",
    "       'high_risk_pregnancy', 'prev_C-section', 'mult_gestation', 'prolonged_pregnancy']\n",
    "\n",
    "POSSIBLE_RELEVANT_COLS_5 = ['Admission_Type', \n",
    "                            'Admission_Quarter',\n",
    "                            'Admission Hour',\n",
    "                            'prev_C-section', \n",
    "                            'high_risk_pregnancy',\n",
    "                            'mult_gestation', \n",
    "                            'prolonged_pregnancy', \n",
    "                            'Encounter_Type',\n",
    "                            'Age_Group', \n",
    "                            'Admission_Source',\n",
    "                            'Patient_Marital_Status',\n",
    "                            'Maternal_Complications_Indicator']\n",
    "\n",
    "def filter_df(df, columns_to_keep):\n",
    "       columns_to_drop = [col for col in df.columns if col not in columns_to_keep]\n",
    "       df.drop(columns=columns_to_drop, inplace=True)\n",
    "       df.dropna(axis=0, inplace=True)\n",
    "\n",
    "       return df"
   ]
  },
  {
   "cell_type": "code",
   "execution_count": 5,
   "metadata": {},
   "outputs": [],
   "source": [
    "def get_X_y(df):\n",
    "    X_unprocessed = df.drop(columns=['Maternal_Complications_Indicator'])\n",
    "    y = df['Maternal_Complications_Indicator']\n",
    "\n",
    "    categorical_feats = []\n",
    "    for col in X_unprocessed.columns:\n",
    "        if X_unprocessed[col].dtype == 'object':\n",
    "            categorical_feats.append(col)\n",
    "            \n",
    "    X = pd.get_dummies(X_unprocessed, columns=categorical_feats, drop_first=True)\n",
    "    \n",
    "    return X, y"
   ]
  },
  {
   "cell_type": "code",
   "execution_count": 6,
   "metadata": {},
   "outputs": [],
   "source": [
    "def train(X, y, scaled=True, parameters=False):\n",
    "    X_train, X_test, y_train, y_test = train_test_split(X, y, test_size=0.3, random_state=42)\n",
    "        \n",
    "    indices_to_drop = y_train[y_train == 0].index\n",
    "\n",
    "    num_positive_samples = (y_train == 1).sum()\n",
    "    num_to_drop = len(indices_to_drop) - num_positive_samples\n",
    "    indices_to_drop = indices_to_drop.to_series().sample(n=num_to_drop, random_state=42)\n",
    "    # Drop the selected rows\n",
    "    y_train = y_train.drop(indices_to_drop)\n",
    "    X_train = X_train.drop(indices_to_drop)\n",
    "    \n",
    "    indices_to_drop_acc = y_test[y_test == 0].index\n",
    "    indices_to_drop_acc = indices_to_drop_acc.to_series().sample(n=len(indices_to_drop_acc) - (y_test == 1).sum(), random_state=42)\n",
    "    X_test_acc = X_test.drop(indices_to_drop_acc)\n",
    "    y_test_acc = y_test.drop(indices_to_drop_acc)\n",
    "    \n",
    "    if scaled:\n",
    "        X_train = scaler.fit_transform(X_train)\n",
    "        X_test = scaler.transform(X_test)\n",
    "\n",
    "    if parameters:\n",
    "        model = LogisticRegression(max_iter=500, \n",
    "                           C=1, \n",
    "                           penalty='l1', \n",
    "                           class_weight=None, \n",
    "                           solver='liblinear')\n",
    "    else:\n",
    "        model = LogisticRegression(max_iter=10000)\n",
    "\n",
    "    model.fit(X_train, y_train)\n",
    "\n",
    "    y_train_pred = model.predict(X_train)\n",
    "    y_test_pred = model.predict(X_test)\n",
    "    y_test_pred_acc = model.predict(X_test_acc)\n",
    "    \n",
    "    train_accuracy = np.mean(y_train_pred == y_train)\n",
    "    test_accuracy = np.mean(y_test_pred_acc == y_test_acc)\n",
    "\n",
    "    train_precision = precision_score(y_train, y_train_pred)\n",
    "    test_precision = precision_score(y_test, y_test_pred)\n",
    "\n",
    "    train_recall = recall_score(y_train, y_train_pred)\n",
    "    test_recall = recall_score(y_test, y_test_pred)\n",
    "    \n",
    "    conf_matrix = confusion_matrix(y_test, y_test_pred)\n",
    "    \n",
    "    return train_accuracy, test_accuracy, train_precision, test_precision, train_recall, test_recall, conf_matrix"
   ]
  },
  {
   "cell_type": "code",
   "execution_count": 7,
   "metadata": {},
   "outputs": [],
   "source": [
    "accuracies_df = pd.DataFrame(columns=['Model', 'Accuracy', 'Precision', 'Recall'])\n",
    "\n",
    "df_all_features = filter_df(orig_df.copy(), POSSIBLE_RELEVANT_COLS)\n",
    "X_all_features, y_all_features = get_X_y(df_all_features)\n",
    "\n",
    "df = filter_df(orig_df.copy(), POSSIBLE_RELEVANT_COLS_5)\n",
    "X, y = get_X_y(df)"
   ]
  },
  {
   "cell_type": "code",
   "execution_count": 8,
   "metadata": {},
   "outputs": [],
   "source": [
    "interaction_terms = pd.DataFrame()\n",
    "interaction_pairs = [('mult_gestation', 'high_risk_pregnancy'), ('prev_C-section', 'prolonged_pregnancy'), ('high_risk_pregnancy', 'Admission_Type')]\n",
    "\n",
    "for pair in interaction_pairs:\n",
    "    interaction_terms[pair[0] + '_' + pair[1]] = X[pair[0]] * X[pair[1]]\n",
    "\n",
    "X_interactions = pd.concat([X, interaction_terms], axis=1)"
   ]
  },
  {
   "cell_type": "code",
   "execution_count": 9,
   "metadata": {},
   "outputs": [],
   "source": [
    "train_accuracy, test_accuracy, train_precision, test_precision, train_recall, test_recall, conf_matrix = train(X_all_features, y_all_features, scaled=False)\n",
    "new_row = {'Model': \"All Features\", 'Accuracy': test_accuracy, 'Precision': test_precision, 'Recall': test_recall}\n",
    "accuracies_df = accuracies_df.append(new_row, ignore_index=True)"
   ]
  },
  {
   "cell_type": "code",
   "execution_count": 10,
   "metadata": {},
   "outputs": [],
   "source": [
    "train_accuracy, test_accuracy, train_precision, test_precision, train_recall, test_recall, conf_matrix = train(X, y, scaled=False)\n",
    "new_row = {'Model': \"Feature Selection\", 'Accuracy': test_accuracy, 'Precision': test_precision, 'Recall': test_recall}\n",
    "accuracies_df = accuracies_df.append(new_row, ignore_index=True)"
   ]
  },
  {
   "cell_type": "code",
   "execution_count": 11,
   "metadata": {},
   "outputs": [],
   "source": [
    "train_accuracy, test_accuracy, train_precision, test_precision, train_recall, test_recall, conf_matrix = train(X, y)\n",
    "new_row = {'Model': \"Scaled\", 'Accuracy': test_accuracy, 'Precision': test_precision, 'Recall': test_recall}\n",
    "accuracies_df = accuracies_df.append(new_row, ignore_index=True)"
   ]
  },
  {
   "cell_type": "code",
   "execution_count": 12,
   "metadata": {},
   "outputs": [],
   "source": [
    "train_accuracy, test_accuracy, train_precision, test_precision, train_recall, test_recall, conf_matrix = train(X_interactions, y)\n",
    "new_row = {'Model': \"With Interactions\", 'Accuracy': test_accuracy, 'Precision': test_precision, 'Recall': test_recall}\n",
    "accuracies_df = accuracies_df.append(new_row, ignore_index=True)"
   ]
  },
  {
   "cell_type": "code",
   "execution_count": 13,
   "metadata": {},
   "outputs": [],
   "source": [
    "train_accuracy, test_accuracy, train_precision, test_precision, train_recall, test_recall, conf_matrix = train(X_interactions, y, parameters=True)\n",
    "new_row = {'Model': \"Grid Search\", 'Accuracy': test_accuracy, 'Precision': test_precision, 'Recall': test_recall}\n",
    "accuracies_df = accuracies_df.append(new_row, ignore_index=True)"
   ]
  },
  {
   "cell_type": "code",
   "execution_count": 14,
   "metadata": {},
   "outputs": [
    {
     "data": {
      "text/html": [
       "<div>\n",
       "<style scoped>\n",
       "    .dataframe tbody tr th:only-of-type {\n",
       "        vertical-align: middle;\n",
       "    }\n",
       "\n",
       "    .dataframe tbody tr th {\n",
       "        vertical-align: top;\n",
       "    }\n",
       "\n",
       "    .dataframe thead th {\n",
       "        text-align: right;\n",
       "    }\n",
       "</style>\n",
       "<table border=\"1\" class=\"dataframe\">\n",
       "  <thead>\n",
       "    <tr style=\"text-align: right;\">\n",
       "      <th></th>\n",
       "      <th>Model</th>\n",
       "      <th>Accuracy</th>\n",
       "      <th>Precision</th>\n",
       "      <th>Recall</th>\n",
       "    </tr>\n",
       "  </thead>\n",
       "  <tbody>\n",
       "    <tr>\n",
       "      <th>0</th>\n",
       "      <td>All Features</td>\n",
       "      <td>0.804137</td>\n",
       "      <td>0.129839</td>\n",
       "      <td>0.912103</td>\n",
       "    </tr>\n",
       "    <tr>\n",
       "      <th>1</th>\n",
       "      <td>Feature Selection</td>\n",
       "      <td>0.800237</td>\n",
       "      <td>0.129111</td>\n",
       "      <td>0.913673</td>\n",
       "    </tr>\n",
       "    <tr>\n",
       "      <th>2</th>\n",
       "      <td>Scaled</td>\n",
       "      <td>0.790988</td>\n",
       "      <td>0.129104</td>\n",
       "      <td>0.913598</td>\n",
       "    </tr>\n",
       "    <tr>\n",
       "      <th>3</th>\n",
       "      <td>With Interactions</td>\n",
       "      <td>0.789393</td>\n",
       "      <td>0.129116</td>\n",
       "      <td>0.913648</td>\n",
       "    </tr>\n",
       "    <tr>\n",
       "      <th>4</th>\n",
       "      <td>Grid Search</td>\n",
       "      <td>0.795937</td>\n",
       "      <td>0.129116</td>\n",
       "      <td>0.913648</td>\n",
       "    </tr>\n",
       "  </tbody>\n",
       "</table>\n",
       "</div>"
      ],
      "text/plain": [
       "               Model  Accuracy  Precision    Recall\n",
       "0       All Features  0.804137   0.129839  0.912103\n",
       "1  Feature Selection  0.800237   0.129111  0.913673\n",
       "2             Scaled  0.790988   0.129104  0.913598\n",
       "3  With Interactions  0.789393   0.129116  0.913648\n",
       "4        Grid Search  0.795937   0.129116  0.913648"
      ]
     },
     "execution_count": 14,
     "metadata": {},
     "output_type": "execute_result"
    }
   ],
   "source": [
    "accuracies_df"
   ]
  },
  {
   "cell_type": "code",
   "execution_count": 15,
   "metadata": {},
   "outputs": [
    {
     "data": {
      "image/png": "[encoded data removed]",
      "text/plain": [
       "<Figure size 432x288 with 2 Axes>"
      ]
     },
     "metadata": {
      "needs_background": "light"
     },
     "output_type": "display_data"
    }
   ],
   "source": [
    "sns.heatmap(conf_matrix, annot=True, fmt='d', cmap='Blues')\n",
    "plt.xlabel('Predicted labels')\n",
    "plt.ylabel('True labels')\n",
    "plt.title('Logistic Regression')\n",
    "plt.show()"
   ]
  }
 ],
 "metadata": {
  "kernelspec": {
   "display_name": ".venv",
   "language": "python",
   "name": "python3"
  },
  "language_info": {
   "codemirror_mode": {
    "name": "ipython",
    "version": 3
   },
   "file_extension": ".py",
   "mimetype": "text/x-python",
   "name": "python",
   "nbconvert_exporter": "python",
   "pygments_lexer": "ipython3",
   "version": "3.6.8"
  }
 },
 "nbformat": 4,
 "nbformat_minor": 2
}
